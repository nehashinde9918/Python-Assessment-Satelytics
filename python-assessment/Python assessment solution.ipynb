{
 "cells": [
  {
   "cell_type": "code",
   "execution_count": 18,
   "id": "e38473f5",
   "metadata": {},
   "outputs": [],
   "source": [
    "WEBSITES = [\n",
    "    {\n",
    "        \"name\": \"Google\",\n",
    "        \"url\": \"https://www.google.co.uk\",\n",
    "        \"domain\": \"google.co.uk\",\n",
    "        \"secure\": True,\n",
    "        \"value\": 5\n",
    "    },\n",
    "    {\n",
    "        \"name\": \"Facebook\",\n",
    "        \"url\": \"https://developers.facebook.com/blog/post/2018/10/02/facebook-login-update/\",\n",
    "        \"domain\": \"facebook.com\",\n",
    "        \"secure\": True,\n",
    "        \"value\": 4\n",
    "    },\n",
    "    {\n",
    "        \"name\": \"Bing\",\n",
    "        \"url\": \"https://www.bing.com/search?q=athlete&qs=n&form=QBLH&sp=-1&pq=athlete&sc=8-7&sk=&cvid=53830DD7FB2E47B7A5D9CF27F106BC9A\",\n",
    "        \"domain\": \"bing.com\",\n",
    "        \"secure\": False,\n",
    "        \"value\": 3\n",
    "    },\n",
    "    {\n",
    "        \"name\": \"Ask\",\n",
    "        \"url\": \"https://uk.ask.com/web?o=0&l=dir&qo=serpSearchTopBox&q=jupiter\",\n",
    "        \"domain\": \"ask.com\",\n",
    "        \"secure\": False,\n",
    "        \"value\": 1\n",
    "    },\n",
    "    {\n",
    "        \"name\": \"Duck Duck Go\",\n",
    "        \"url\": \"http://duckduckgo.com/?q=plane&t=h_&ia=web\",\n",
    "        \"domain\": \"duckduckgo.com\",\n",
    "        \"secure\": True,\n",
    "        \"value\": 2\n",
    "    },\n",
    "    {\n",
    "        \"name\": \"Vimeo\",\n",
    "        \"url\": \"https://vimeo.com/53812885\",\n",
    "        \"domain\": \"vimeo.com\",\n",
    "        \"secure\": False,\n",
    "        \"value\": 2\n",
    "    },\n",
    "    {\n",
    "        \"name\": \"YouTube\",\n",
    "        \"url\": \"https://www.youtube.com/watch?v=09Cd7NKKvDc\",\n",
    "        \"domain\": \"youtube.com\",\n",
    "        \"secure\": True,\n",
    "        \"value\": 5\n",
    "    },\n",
    "    {\n",
    "        \"name\": \"Daily Motion\",\n",
    "        \"url\": \"http://www.dailymotion.com/search/football\",\n",
    "        \"domain\": \"dailymotion.com\",\n",
    "        \"secure\": True,\n",
    "        \"value\": 1\n",
    "    }\n",
    "]"
   ]
  },
  {
   "cell_type": "code",
   "execution_count": 19,
   "id": "f892c4b2",
   "metadata": {},
   "outputs": [
    {
     "name": "stdout",
     "output_type": "stream",
     "text": [
      "[{'name': 'Google', 'url': 'https://www.google.co.uk', 'domain': 'google.co.uk', 'secure': True, 'value': 5}, {'name': 'Facebook', 'url': 'https://developers.facebook.com/blog/post/2018/10/02/facebook-login-update/', 'domain': 'facebook.com', 'secure': True, 'value': 4}, {'name': 'YouTube', 'url': 'https://www.youtube.com/watch?v=09Cd7NKKvDc', 'domain': 'youtube.com', 'secure': True, 'value': 5}]\n"
     ]
    }
   ],
   "source": [
    "#TASK 1\n",
    "\n",
    "list1=[]\n",
    "\n",
    "for i in range(len(WEBSITES)):\n",
    "    if WEBSITES[i].get(\"value\")>=4:\n",
    "        list1.append(WEBSITES[i])\n",
    "print(list1)        "
   ]
  },
  {
   "cell_type": "code",
   "execution_count": 20,
   "id": "a4b5b7db",
   "metadata": {},
   "outputs": [
    {
     "name": "stdout",
     "output_type": "stream",
     "text": [
      "[{'name': 'Google', 'url': 'https://www.google.co.uk', 'domain': 'www.google.co.uk', 'secure': True, 'value': 5}, {'name': 'Facebook', 'url': 'https://developers.facebook.com/blog/post/2018/10/02/facebook-login-update/', 'domain': 'www.facebook.com', 'secure': True, 'value': 4}, {'name': 'Bing', 'url': 'https://www.bing.com/search?q=athlete&qs=n&form=QBLH&sp=-1&pq=athlete&sc=8-7&sk=&cvid=53830DD7FB2E47B7A5D9CF27F106BC9A', 'domain': 'www.bing.com', 'secure': False, 'value': 3}, {'name': 'Ask', 'url': 'https://uk.ask.com/web?o=0&l=dir&qo=serpSearchTopBox&q=jupiter', 'domain': 'www.ask.com', 'secure': False, 'value': 1}, {'name': 'Duck Duck Go', 'url': 'http://duckduckgo.com/?q=plane&t=h_&ia=web', 'domain': 'www.duckduckgo.com', 'secure': True, 'value': 2}, {'name': 'Vimeo', 'url': 'https://vimeo.com/53812885', 'domain': 'www.vimeo.com', 'secure': False, 'value': 2}, {'name': 'YouTube', 'url': 'https://www.youtube.com/watch?v=09Cd7NKKvDc', 'domain': 'www.youtube.com', 'secure': True, 'value': 5}, {'name': 'Daily Motion', 'url': 'http://www.dailymotion.com/search/football', 'domain': 'www.dailymotion.com', 'secure': True, 'value': 1}]\n"
     ]
    }
   ],
   "source": [
    "#TASK 2\n",
    "\n",
    "for i in range(len(WEBSITES)):\n",
    "    val=WEBSITES[i].get(\"domain\")\n",
    "    val=\"www.\"+val\n",
    "    WEBSITES[i][\"domain\"]=val\n",
    "print(WEBSITES)"
   ]
  },
  {
   "cell_type": "code",
   "execution_count": 21,
   "id": "f758e30f",
   "metadata": {},
   "outputs": [
    {
     "name": "stdout",
     "output_type": "stream",
     "text": [
      "[{'name': 'Google', 'url': 'https://www.google.co.uk', 'domain': 'www.google.co.uk', 'secure': True, 'value': 5}, {'name': 'Facebook', 'url': 'https://developers.facebook.com/blog/post/2018/10/02/facebook-login-update/', 'domain': 'www.facebook.com', 'secure': True, 'value': 4}, {'name': 'Bing', 'url': 'https://www.bing.com/search?q=athlete&qs=n&form=QBLH&sp=-1&pq=athlete&sc=8-7&sk=&cvid=53830DD7FB2E47B7A5D9CF27F106BC9A', 'domain': 'www.bing.com', 'secure': True, 'value': 3}, {'name': 'Ask', 'url': 'https://uk.ask.com/web?o=0&l=dir&qo=serpSearchTopBox&q=jupiter', 'domain': 'www.ask.com', 'secure': True, 'value': 1}, {'name': 'Duck Duck Go', 'url': 'http://duckduckgo.com/?q=plane&t=h_&ia=web', 'domain': 'www.duckduckgo.com', 'secure': False, 'value': 2}, {'name': 'Vimeo', 'url': 'https://vimeo.com/53812885', 'domain': 'www.vimeo.com', 'secure': True, 'value': 2}, {'name': 'YouTube', 'url': 'https://www.youtube.com/watch?v=09Cd7NKKvDc', 'domain': 'www.youtube.com', 'secure': True, 'value': 5}, {'name': 'Daily Motion', 'url': 'http://www.dailymotion.com/search/football', 'domain': 'www.dailymotion.com', 'secure': False, 'value': 1}]\n"
     ]
    }
   ],
   "source": [
    "# TASK 3\n",
    "\n",
    "for i in range(len(WEBSITES)):\n",
    "    if \"https://\" in WEBSITES[i].get(\"url\")and WEBSITES[i].get(\"secure\")==False:\n",
    "        WEBSITES[i][\"secure\"]=True\n",
    "    if \"http://\" in WEBSITES[i].get(\"url\")and WEBSITES[i].get(\"secure\")==True:\n",
    "        WEBSITES[i][\"secure\"]=False\n",
    "print(WEBSITES)        \n",
    "        "
   ]
  },
  {
   "cell_type": "code",
   "execution_count": 23,
   "id": "5aff8bce",
   "metadata": {},
   "outputs": [
    {
     "name": "stdout",
     "output_type": "stream",
     "text": [
      "23\n"
     ]
    }
   ],
   "source": [
    "# TASK 4\n",
    "t=0\n",
    "for i in range(len(WEBSITES)):\n",
    "    t+=WEBSITES[i].get(\"value\")\n",
    "print(t)\n",
    "  "
   ]
  },
  {
   "cell_type": "code",
   "execution_count": null,
   "id": "f95867bb",
   "metadata": {},
   "outputs": [],
   "source": []
  },
  {
   "cell_type": "code",
   "execution_count": null,
   "id": "95977e08",
   "metadata": {},
   "outputs": [],
   "source": []
  }
 ],
 "metadata": {
  "kernelspec": {
   "display_name": "Python 3",
   "language": "python",
   "name": "python3"
  },
  "language_info": {
   "codemirror_mode": {
    "name": "ipython",
    "version": 3
   },
   "file_extension": ".py",
   "mimetype": "text/x-python",
   "name": "python",
   "nbconvert_exporter": "python",
   "pygments_lexer": "ipython3",
   "version": "3.8.8"
  }
 },
 "nbformat": 4,
 "nbformat_minor": 5
}
